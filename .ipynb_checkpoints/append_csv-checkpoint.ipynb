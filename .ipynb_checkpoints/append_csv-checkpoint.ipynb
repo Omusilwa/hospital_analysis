{
 "cells": [
  {
   "cell_type": "markdown",
   "id": "80f488b0-ab00-4b60-91dc-471f44028b39",
   "metadata": {},
   "source": [
    "### Appending record from CSV to and existing SQL table"
   ]
  },
  {
   "cell_type": "code",
   "execution_count": 2,
   "id": "7dedaa46-4413-4cc5-b429-a6b6a6cb66e1",
   "metadata": {
    "tags": []
   },
   "outputs": [],
   "source": [
    "import pandas as pd\n",
    "import sqlite3"
   ]
  },
  {
   "cell_type": "markdown",
   "id": "1448f639-47cd-468e-98be-67fabc821706",
   "metadata": {},
   "source": [
    "**Append encounters table records**"
   ]
  },
  {
   "cell_type": "code",
   "execution_count": 4,
   "id": "0c2e3371-54ff-4e25-8b35-1db53c876869",
   "metadata": {
    "tags": []
   },
   "outputs": [
    {
     "data": {
      "text/plain": [
       "27891"
      ]
     },
     "execution_count": 4,
     "metadata": {},
     "output_type": "execute_result"
    }
   ],
   "source": [
    "# Load the csv\n",
    "encounter_df = pd.read_csv(\"encounters.csv\")\n",
    "\n",
    "# Connect to the datadase\n",
    "conn = sqlite3.connect(\"hospital_db\")\n",
    "\n",
    "#Append records into encounters table(already exists)\n",
    "encounter_df.to_sql(\"encounters\",conn, if_exists=\"replace\", index=False)"
   ]
  },
  {
   "cell_type": "markdown",
   "id": "28af1b3e-fcd2-48f6-937f-13d921c2c03f",
   "metadata": {},
   "source": [
    "**Append procedure table records**"
   ]
  },
  {
   "cell_type": "code",
   "execution_count": 6,
   "id": "9d4f5210-0149-43bf-a221-047298d371de",
   "metadata": {
    "tags": []
   },
   "outputs": [
    {
     "data": {
      "text/plain": [
       "47701"
      ]
     },
     "execution_count": 6,
     "metadata": {},
     "output_type": "execute_result"
    }
   ],
   "source": [
    "# Load the csv\n",
    "procedure_df = pd.read_csv(\"procedures.csv\")\n",
    "\n",
    "# Connect to the datadase\n",
    "conn = sqlite3.connect(\"hospital_db\")\n",
    "\n",
    "#Append records into encounters table(already exists)\n",
    "procedure_df.to_sql(\"procedures\",conn, if_exists=\"append\", index=False)"
   ]
  },
  {
   "cell_type": "markdown",
   "id": "80343cf3-abf8-4940-a0c2-5f33596f39f4",
   "metadata": {},
   "source": [
    "**Add organization table**"
   ]
  },
  {
   "cell_type": "code",
   "execution_count": 8,
   "id": "f9a5cb9c-c88a-4b3a-a074-1fcc306073af",
   "metadata": {
    "tags": []
   },
   "outputs": [
    {
     "data": {
      "text/plain": [
       "1"
      ]
     },
     "execution_count": 8,
     "metadata": {},
     "output_type": "execute_result"
    }
   ],
   "source": [
    "# Load the csv\n",
    "org_df = pd.read_csv(\"organizations.csv\")\n",
    "\n",
    "# Connect to the datadase\n",
    "conn = sqlite3.connect(\"hospital_db\")\n",
    "\n",
    "#Append records into encounters table(already exists)\n",
    "org_df.to_sql(\"organizations\",conn, if_exists=\"replace\", index=False)"
   ]
  },
  {
   "cell_type": "code",
   "execution_count": null,
   "id": "afcdeb84-83ab-477f-9b52-4570cec36aea",
   "metadata": {},
   "outputs": [],
   "source": []
  }
 ],
 "metadata": {
  "kernelspec": {
   "display_name": "Python 3 (ipykernel)",
   "language": "python",
   "name": "python3"
  },
  "language_info": {
   "codemirror_mode": {
    "name": "ipython",
    "version": 3
   },
   "file_extension": ".py",
   "mimetype": "text/x-python",
   "name": "python",
   "nbconvert_exporter": "python",
   "pygments_lexer": "ipython3",
   "version": "3.11.7"
  }
 },
 "nbformat": 4,
 "nbformat_minor": 5
}
