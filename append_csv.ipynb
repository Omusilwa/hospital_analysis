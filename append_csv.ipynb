{
 "cells": [
  {
   "cell_type": "markdown",
   "id": "80f488b0-ab00-4b60-91dc-471f44028b39",
   "metadata": {},
   "source": [
    "### Appending record from CSV to and existing SQL table"
   ]
  },
  {
   "cell_type": "code",
   "execution_count": 2,
   "id": "7dedaa46-4413-4cc5-b429-a6b6a6cb66e1",
   "metadata": {
    "tags": []
   },
   "outputs": [],
   "source": [
    "import pandas as pd\n",
    "import sqlite3"
   ]
  },
  {
   "cell_type": "markdown",
   "id": "1448f639-47cd-468e-98be-67fabc821706",
   "metadata": {},
   "source": [
    "**Append encounters table records**"
   ]
  },
  {
   "cell_type": "code",
   "execution_count": 35,
   "id": "0c2e3371-54ff-4e25-8b35-1db53c876869",
   "metadata": {
    "tags": []
   },
   "outputs": [
    {
     "data": {
      "text/plain": [
       "27891"
      ]
     },
     "execution_count": 35,
     "metadata": {},
     "output_type": "execute_result"
    }
   ],
   "source": [
    "# Load the csv\n",
    "encounter_df = pd.read_csv(\"encounters.csv\")\n",
    "\n",
    "# Convert Column Start and Stop to datetime datatype\n",
    "cols = encounter_df.columns[1:3]\n",
    "encounter_df[cols] = encounter_df[cols].apply(pd.to_datetime, errors='coerce')\n",
    "\n",
    "# Connect to the datadase\n",
    "conn = sqlite3.connect(\"hospital_db\")\n",
    "\n",
    "#Append records into encounters table(already exists)\n",
    "encounter_df.to_sql(\"encounters\",conn, if_exists=\"replace\", index=False)"
   ]
  },
  {
   "cell_type": "code",
   "execution_count": 22,
   "id": "99bf4f10-3b3d-43b4-8815-700ff09d21a1",
   "metadata": {
    "tags": []
   },
   "outputs": [
    {
     "name": "stdout",
     "output_type": "stream",
     "text": [
      "<class 'pandas.core.frame.DataFrame'>\n",
      "RangeIndex: 27891 entries, 0 to 27890\n",
      "Data columns (total 14 columns):\n",
      " #   Column               Non-Null Count  Dtype              \n",
      "---  ------               --------------  -----              \n",
      " 0   Id                   27891 non-null  object             \n",
      " 1   START                27891 non-null  datetime64[ns, UTC]\n",
      " 2   STOP                 27891 non-null  datetime64[ns, UTC]\n",
      " 3   PATIENT              27891 non-null  object             \n",
      " 4   ORGANIZATION         27891 non-null  object             \n",
      " 5   PAYER                27891 non-null  object             \n",
      " 6   ENCOUNTERCLASS       27891 non-null  object             \n",
      " 7   CODE                 27891 non-null  int64              \n",
      " 8   DESCRIPTION          27891 non-null  object             \n",
      " 9   BASE_ENCOUNTER_COST  27891 non-null  float64            \n",
      " 10  TOTAL_CLAIM_COST     27891 non-null  float64            \n",
      " 11  PAYER_COVERAGE       27891 non-null  float64            \n",
      " 12  REASONCODE           8350 non-null   float64            \n",
      " 13  REASONDESCRIPTION    8350 non-null   object             \n",
      "dtypes: datetime64[ns, UTC](2), float64(4), int64(1), object(7)\n",
      "memory usage: 3.0+ MB\n"
     ]
    }
   ],
   "source": [
    "encounter_df.info()"
   ]
  },
  {
   "cell_type": "code",
   "execution_count": 20,
   "id": "e1cffe3f-e6fd-4ff2-ab02-9648b4f2fb04",
   "metadata": {
    "tags": []
   },
   "outputs": [],
   "source": []
  },
  {
   "cell_type": "code",
   "execution_count": 31,
   "id": "41eef335-e367-40ae-ab1f-7420de2b1810",
   "metadata": {
    "tags": []
   },
   "outputs": [],
   "source": [
    "# # Extract Year of Encounter\n",
    "# encounter_df[\"ENCOUNTERYEAR\"] = encounter_df[\"START\"].dt.year"
   ]
  },
  {
   "cell_type": "markdown",
   "id": "28af1b3e-fcd2-48f6-937f-13d921c2c03f",
   "metadata": {},
   "source": [
    "**Append procedure table records**"
   ]
  },
  {
   "cell_type": "code",
   "execution_count": null,
   "id": "9d4f5210-0149-43bf-a221-047298d371de",
   "metadata": {
    "tags": []
   },
   "outputs": [],
   "source": [
    "# Load the csv\n",
    "procedure_df = pd.read_csv(\"procedures.csv\")\n",
    "\n",
    "# # Connect to the datadase\n",
    "# conn = sqlite3.connect(\"hospital_db\")\n",
    "\n",
    "# #Append records into encounters table(already exists)\n",
    "# procedure_df.to_sql(\"procedures\",conn, if_exists=\"append\", index=False)"
   ]
  },
  {
   "cell_type": "markdown",
   "id": "80343cf3-abf8-4940-a0c2-5f33596f39f4",
   "metadata": {},
   "source": [
    "**Add organization table**"
   ]
  },
  {
   "cell_type": "code",
   "execution_count": null,
   "id": "f9a5cb9c-c88a-4b3a-a074-1fcc306073af",
   "metadata": {
    "tags": []
   },
   "outputs": [],
   "source": [
    "# Load the csv\n",
    "org_df = pd.read_csv(\"organizations.csv\")\n",
    "\n",
    "# # Connect to the datadase\n",
    "# conn = sqlite3.connect(\"hospital_db\")\n",
    "\n",
    "# #Append records into encounters table(already exists)\n",
    "# org_df.to_sql(\"organizations\",conn, if_exists=\"replace\", index=False)"
   ]
  },
  {
   "cell_type": "code",
   "execution_count": null,
   "id": "afcdeb84-83ab-477f-9b52-4570cec36aea",
   "metadata": {},
   "outputs": [],
   "source": []
  }
 ],
 "metadata": {
  "kernelspec": {
   "display_name": "Python 3 (ipykernel)",
   "language": "python",
   "name": "python3"
  },
  "language_info": {
   "codemirror_mode": {
    "name": "ipython",
    "version": 3
   },
   "file_extension": ".py",
   "mimetype": "text/x-python",
   "name": "python",
   "nbconvert_exporter": "python",
   "pygments_lexer": "ipython3",
   "version": "3.11.7"
  }
 },
 "nbformat": 4,
 "nbformat_minor": 5
}
